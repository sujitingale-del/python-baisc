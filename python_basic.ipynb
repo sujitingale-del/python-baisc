{
  "nbformat": 4,
  "nbformat_minor": 0,
  "metadata": {
    "colab": {
      "provenance": []
    },
    "kernelspec": {
      "name": "python3",
      "display_name": "Python 3"
    },
    "language_info": {
      "name": "python"
    }
  },
  "cells": [
    {
      "cell_type": "code",
      "execution_count": null,
      "metadata": {
        "id": "w3dbg4BQzl_4"
      },
      "outputs": [],
      "source": []
    },
    {
      "cell_type": "markdown",
      "source": [
        " 1.**What is Python, and why is it popular?**\n",
        "\n",
        "  -Python is a high-level, interpreted programming language created by Guido van Rossum and first released in 1991.\n",
        "\n",
        "  -Easy to Learn & Read\n",
        "  -Large Community Support\n",
        "  -Rich Libraries & Frameworks\n",
        "  -Versatile\n",
        "  -Industry Demand\n",
        "\n",
        "2.**What is an interpreter in Python ?**\n",
        "\n",
        " -An interpreter in Python is a program that executes Python code line by line\n",
        "\n",
        "3.**What are pre-defined keywords in Python?**\n",
        "\n",
        " -In Python, keywords are special reserved words that have a fixed meaning and purpose in the language\n",
        "\n",
        "4.**Can keywords be used as variable names ?**\n",
        "\n",
        " -no.\n",
        "\n",
        "5.**What is mutability in Python ?**\n",
        "\n",
        " -Mutability refers to whether the value of an object in Python can be changed  after it is created\n",
        "\n",
        "6.**Why are lists mutable, but tuples are immutable ?**\n",
        "  \n",
        "-Lists are mutable because they are designed for dynamic, changeable data\n",
        "\n",
        " -Tuples are immutable because they are designed for fixed, constant data.\n",
        "\n",
        "\n",
        "7.**What is the difference between “==” and “is” operators in Python ?**\n",
        "\n",
        "-Use == when comparing values.\n",
        "\n",
        "Use is when checking if two variables refer to the same object\n",
        "\n",
        "\n",
        "8.**What are logical operators in Python ?**\n",
        "\n",
        " -Logical operators are used to combine conditional statements\n",
        "\n",
        " -and, or, not\n",
        "\n",
        "\n",
        "9.**What is type casting in Python ?**\n",
        "\n",
        " -Type casting  in Python means converting one data type into another.\n",
        "\n",
        "For example, converting:\n",
        "\n",
        "int → float\n",
        "\n",
        "float → int\n",
        "\n",
        "string → int (if the string is numeric)\n",
        "\n",
        "\n",
        "10.**What is the difference between implicit and explicit type casting ?**\n",
        "\n",
        "-Implicit Casting = Python does it for you (safe, automatic).\n",
        "\n",
        "Explicit Casting = You do it manually (may cause data loss)\n",
        "\n",
        "\n",
        "11.**What is the purpose of conditional statements in Python ?**\n",
        "\n",
        " -The purpose of conditional statements is to allow a program to make decisions and execute certain blocks of code only when specific conditions are true.\n",
        "\n",
        "\n",
        " -The purpose of conditional statements is to control decision-making in a program so that different code runs depending on conditions\n",
        "\n",
        " -if → Executes a block if the condition is true.\n",
        "\n",
        "if-else → Executes one block if true, another if false.\n",
        "\n",
        "if-elif-else → Multiple conditions.\n",
        "\n",
        "Nested if → An if inside another if.\n",
        "\n",
        "\n",
        "12.**How does the elif statement work ?**\n",
        "\n",
        " -elif stands for else if.\n",
        "\n",
        "It is used when you want to check multiple conditions, one after another.\n",
        "\n",
        "Python checks the conditions from top to bottom:\n",
        "\n",
        "If the first if is true → its block runs → rest are skipped.\n",
        "\n",
        "If not, Python checks the next elif.\n",
        "\n",
        "If no conditions are true → the optional else block runs\n",
        "\n",
        "\n",
        "13.**What is the difference between for and while loops ?**\n",
        "\n",
        " -Use for when you know the number of iterations or when looping through a sequence.\n",
        "\n",
        "Use while when you don’t know in advance how many times you’ll loop (depends on a condition)\n",
        "\n",
        "\n",
        "14.**Describe a scenario where a while loop is more suitable than a for loop.?**\n",
        "\n",
        " Imagine you are building a login system where a user can try to enter their password until they get it right, or until they reach 3 attempts.\n",
        "\n",
        "Here, you don’t know in advance how many attempts the user will need — it depends on the user input.\n",
        "\n",
        "This is perfect for a while loop, because the loop continues based on a condition, not a fixed number of iterations-\n",
        "\n",
        "\n"
      ],
      "metadata": {
        "id": "S16KXesFzsHa"
      }
    },
    {
      "cell_type": "code",
      "source": [
        "#1.Write a Python program to print \"Hello, World! ?\n",
        "\n",
        "print(\"Hello, World\")"
      ],
      "metadata": {
        "colab": {
          "base_uri": "https://localhost:8080/"
        },
        "id": "4OaFzBiy75PO",
        "outputId": "4916233e-1c72-44c9-d449-11539f14179e"
      },
      "execution_count": 1,
      "outputs": [
        {
          "output_type": "stream",
          "name": "stdout",
          "text": [
            "Hello, World\n"
          ]
        }
      ]
    },
    {
      "cell_type": "code",
      "source": [
        "#2. Write a Python program that displays your name and age?\n",
        "name = input(\"Enter your name: \")\n",
        "age = input(\"Enter your age: \")\n",
        "\n",
        "\n",
        "print(\"Your name is:\", name)\n",
        "print(\"Your age is:\", age)"
      ],
      "metadata": {
        "colab": {
          "base_uri": "https://localhost:8080/"
        },
        "id": "YKsgK9d28HeN",
        "outputId": "821a9301-344d-4e0d-d187-ab53f3e56a78"
      },
      "execution_count": 2,
      "outputs": [
        {
          "output_type": "stream",
          "name": "stdout",
          "text": [
            "Enter your name: sujit\n",
            "Enter your age: 22\n",
            "Your name is: sujit\n",
            "Your age is: 22\n"
          ]
        }
      ]
    },
    {
      "cell_type": "code",
      "source": [
        "#3.Write code to print all the pre-defined keywords in Python using the keyword library?\n",
        "import keyword\n",
        "\n",
        "\n",
        "print(\"Python Keywords:\")\n",
        "print(keyword.kwlist)"
      ],
      "metadata": {
        "colab": {
          "base_uri": "https://localhost:8080/"
        },
        "id": "lIQmRgWY8fwg",
        "outputId": "911ab092-67b7-4d68-b467-3dfd8f04e281"
      },
      "execution_count": 3,
      "outputs": [
        {
          "output_type": "stream",
          "name": "stdout",
          "text": [
            "Python Keywords:\n",
            "['False', 'None', 'True', 'and', 'as', 'assert', 'async', 'await', 'break', 'class', 'continue', 'def', 'del', 'elif', 'else', 'except', 'finally', 'for', 'from', 'global', 'if', 'import', 'in', 'is', 'lambda', 'nonlocal', 'not', 'or', 'pass', 'raise', 'return', 'try', 'while', 'with', 'yield']\n"
          ]
        }
      ]
    },
    {
      "cell_type": "code",
      "source": [
        "#4.Write a program that checks if a given word is a Python keyword.?\n",
        "import keyword\n",
        "\n",
        "\n",
        "word = input(\"Enter a word: \")\n",
        "\n",
        "\n",
        "if keyword.iskeyword(word):\n",
        "    print(f'\"{word}\" is a Python keyword.')\n",
        "else:\n",
        "    print(f'\"{word}\" is NOT a Python keyword.')"
      ],
      "metadata": {
        "colab": {
          "base_uri": "https://localhost:8080/"
        },
        "id": "fIQUP0qX86WP",
        "outputId": "e563adf2-1c26-4919-c1f1-a17f14091bdf"
      },
      "execution_count": 5,
      "outputs": [
        {
          "output_type": "stream",
          "name": "stdout",
          "text": [
            "Enter a word: True\n",
            "\"True\" is a Python keyword.\n"
          ]
        }
      ]
    },
    {
      "cell_type": "code",
      "source": [
        "#5.Create a list and tuple in Python, and demonstrate how attempting to change an element works differently for each ?\n"
      ],
      "metadata": {
        "id": "hJ5MnE4v9N9g"
      },
      "execution_count": 7,
      "outputs": []
    },
    {
      "cell_type": "code",
      "source": [
        "#6. Write a function to demonstrate the behavior of mutable and immutable arguments?\n"
      ],
      "metadata": {
        "id": "psom8z9R9sav"
      },
      "execution_count": 8,
      "outputs": []
    },
    {
      "cell_type": "code",
      "source": [
        "#7. Write a program that performs basic arithmetic operations on two user-input numbers.?\n",
        "num1 = float(input(\"Enter first number: \"))\n",
        "num2 = float(input(\"Enter second number: \"))\n",
        "\n",
        "# Perform arithmetic operations\n",
        "addition = num1 + num2\n",
        "subtraction = num1 - num2\n",
        "multiplication = num1 * num2\n",
        "division = num1 / num2 if num2 != 0 else \"Undefined (division by zero)\"\n",
        "modulus = num1 % num2 if num2 != 0 else \"Undefined (modulus by zero)\"\n",
        "\n",
        "# Display results\n",
        "print(\"\\nResults:\")\n",
        "print(f\"{num1} + {num2} = {addition}\")\n",
        "print(f\"{num1} - {num2} = {subtraction}\")\n",
        "print(f\"{num1} * {num2} = {multiplication}\")\n",
        "print(f\"{num1} / {num2} = {division}\")\n",
        "print(f\"{num1} % {num2} = {modulus}\")"
      ],
      "metadata": {
        "colab": {
          "base_uri": "https://localhost:8080/"
        },
        "id": "-TaFQKC--EZ5",
        "outputId": "7bca265f-a0e5-4f51-b9d7-7b174f137ec4"
      },
      "execution_count": 9,
      "outputs": [
        {
          "output_type": "stream",
          "name": "stdout",
          "text": [
            "Enter first number: 5\n",
            "Enter second number: 7\n",
            "\n",
            "Results:\n",
            "5.0 + 7.0 = 12.0\n",
            "5.0 - 7.0 = -2.0\n",
            "5.0 * 7.0 = 35.0\n",
            "5.0 / 7.0 = 0.7142857142857143\n",
            "5.0 % 7.0 = 5.0\n"
          ]
        }
      ]
    },
    {
      "cell_type": "code",
      "source": [
        "#8.Write a program to demonstrate the use of logical operators.?\n",
        "\n",
        "x = int(input(\"Enter first number: \"))\n",
        "y = int(input(\"Enter second number: \"))\n",
        "\n",
        "# Logical AND\n",
        "if x > 0 and y > 0:\n",
        "    print(\"Both numbers are positive (using AND)\")\n",
        "\n",
        "# Logical OR\n",
        "if x > 0 or y > 0:\n",
        "    print(\"At least one number is positive (using OR)\")\n",
        "\n",
        "# Logical NOT\n",
        "if not(x > 0):\n",
        "    print(\"First number is NOT positive (using NOT)\")\n",
        "if not(y > 0):\n",
        "    print(\"Second number is NOT positive (using NOT)\")"
      ],
      "metadata": {
        "colab": {
          "base_uri": "https://localhost:8080/"
        },
        "id": "Nln7tDhq-bOq",
        "outputId": "078e1bf8-682b-4154-97ce-999681283bef"
      },
      "execution_count": 10,
      "outputs": [
        {
          "output_type": "stream",
          "name": "stdout",
          "text": [
            "Enter first number: 2\n",
            "Enter second number: 36\n",
            "Both numbers are positive (using AND)\n",
            "At least one number is positive (using OR)\n"
          ]
        }
      ]
    },
    {
      "cell_type": "code",
      "source": [
        "#9.Write a Python program to convert user input from string to integer, float, and boolean types?\n",
        "\n",
        "a= '2'\n",
        "b =3\n",
        "#string to integer\n",
        "int(a)+b"
      ],
      "metadata": {
        "colab": {
          "base_uri": "https://localhost:8080/"
        },
        "id": "tLAlgrhP-wsm",
        "outputId": "9a6bef8a-499e-4516-c713-0515cb4d984a"
      },
      "execution_count": 18,
      "outputs": [
        {
          "output_type": "execute_result",
          "data": {
            "text/plain": [
              "5"
            ]
          },
          "metadata": {},
          "execution_count": 18
        }
      ]
    },
    {
      "cell_type": "code",
      "source": [
        "#string to float\n",
        "float(a)"
      ],
      "metadata": {
        "colab": {
          "base_uri": "https://localhost:8080/"
        },
        "id": "_aCoa7MW_Os5",
        "outputId": "e088c55c-2ef5-4826-e615-401b703a6770"
      },
      "execution_count": 17,
      "outputs": [
        {
          "output_type": "execute_result",
          "data": {
            "text/plain": [
              "2.0"
            ]
          },
          "metadata": {},
          "execution_count": 17
        }
      ]
    },
    {
      "cell_type": "code",
      "source": [
        "#string to boolean\n",
        "bool(a)"
      ],
      "metadata": {
        "colab": {
          "base_uri": "https://localhost:8080/"
        },
        "id": "Jf_mmu5mBqA_",
        "outputId": "84a85202-fbcd-4e7e-caad-c87615504c51"
      },
      "execution_count": 19,
      "outputs": [
        {
          "output_type": "execute_result",
          "data": {
            "text/plain": [
              "True"
            ]
          },
          "metadata": {},
          "execution_count": 19
        }
      ]
    },
    {
      "cell_type": "code",
      "source": [
        "#10.Write code to demonstrate type casting with list elements.?\n",
        "string_list = [\"10\", \"20\", \"30\", \"0\", \"\"]\n",
        "\n",
        "print(\"Original List (strings):\", string_list)\n",
        "\n",
        "float_list = []\n",
        "for item in string_list:\n",
        "    try:\n",
        "        float_list.append(float(item))\n",
        "    except ValueError:\n",
        "        float_list.append(\"Cannot convert\")\n",
        "print(\"\\nAfter Type Casting:\")\n",
        "print(\"As Floats:\", float_list)\n"
      ],
      "metadata": {
        "colab": {
          "base_uri": "https://localhost:8080/"
        },
        "id": "mwedkSQJB28L",
        "outputId": "d72892cd-5968-46a4-f66b-88728552d224"
      },
      "execution_count": 24,
      "outputs": [
        {
          "output_type": "stream",
          "name": "stdout",
          "text": [
            "Original List (strings): ['10', '20', '30', '0', '']\n",
            "\n",
            "After Type Casting:\n",
            "As Floats: [10.0, 20.0, 30.0, 0.0, 'Cannot convert']\n"
          ]
        }
      ]
    },
    {
      "cell_type": "code",
      "source": [
        "#11. Write a program that checks if a number is positive, negative, or zero?\n",
        "num = float(input(\"Enter a number: \"))\n",
        "\n",
        "\n",
        "if num > 0:\n",
        "    print(\"The number is Positive.\")\n",
        "elif num < 0:\n",
        "    print(\"The number is Negative.\")\n",
        "else:\n",
        "    print(\"The number is Zero.\")"
      ],
      "metadata": {
        "colab": {
          "base_uri": "https://localhost:8080/"
        },
        "id": "eqf4JiMYCw5x",
        "outputId": "d4b0bb01-831f-4e40-dcae-3c99c5cf7c17"
      },
      "execution_count": 25,
      "outputs": [
        {
          "output_type": "stream",
          "name": "stdout",
          "text": [
            "Enter a number: -73\n",
            "The number is Negative.\n"
          ]
        }
      ]
    },
    {
      "cell_type": "code",
      "source": [
        "#12.Write a for loop to print numbers from 1 to 10.?\n",
        "for i in range(1, 11):\n",
        "    print(i)"
      ],
      "metadata": {
        "colab": {
          "base_uri": "https://localhost:8080/"
        },
        "id": "YljTYOqgD8w_",
        "outputId": "324c859c-938a-4d15-bc8a-7847a4c6d58b"
      },
      "execution_count": 26,
      "outputs": [
        {
          "output_type": "stream",
          "name": "stdout",
          "text": [
            "1\n",
            "2\n",
            "3\n",
            "4\n",
            "5\n",
            "6\n",
            "7\n",
            "8\n",
            "9\n",
            "10\n"
          ]
        }
      ]
    },
    {
      "cell_type": "code",
      "source": [
        "#13.Write a Python program to find the sum of all even numbers between 1 and 50?\n",
        "sum_of_even = 0\n",
        "\n",
        "for num in range(2, 51, 2):\n",
        "    sum_of_even += num\n",
        "\n",
        "print(\"The sum of even numbers between 1 and 50 is:\", sum_of_even)"
      ],
      "metadata": {
        "colab": {
          "base_uri": "https://localhost:8080/"
        },
        "id": "Y94RWHc4EK69",
        "outputId": "7a7434eb-eea6-4089-fbb8-7a3f93b2ecb4"
      },
      "execution_count": 27,
      "outputs": [
        {
          "output_type": "stream",
          "name": "stdout",
          "text": [
            "The sum of even numbers between 1 and 50 is: 650\n"
          ]
        }
      ]
    },
    {
      "cell_type": "code",
      "source": [
        "#14. Write a program to reverse a string using a while loop?"
      ],
      "metadata": {
        "id": "D6c_aX33ESET"
      },
      "execution_count": 28,
      "outputs": []
    },
    {
      "cell_type": "code",
      "source": [
        "#15. Write a Python program to calculate the factorial of a number provided by the user using a while loop?\n",
        "num = int(input(\"Enter a number: \"))\n",
        "\n",
        "factorial = 1\n",
        "current = 1\n",
        "\n",
        "while current <= num:\n",
        "    factorial *= current\n",
        "    current += 1\n",
        "\n",
        "print(f\"The factorial of {num} is: {factorial}\")"
      ],
      "metadata": {
        "colab": {
          "base_uri": "https://localhost:8080/"
        },
        "id": "7RnL6iPuEbNt",
        "outputId": "e7bb2f1d-84b3-406c-9e37-2670c9c1aa41"
      },
      "execution_count": 30,
      "outputs": [
        {
          "output_type": "stream",
          "name": "stdout",
          "text": [
            "Enter a number: 5\n",
            "The factorial of 5 is: 120\n"
          ]
        }
      ]
    },
    {
      "cell_type": "code",
      "source": [],
      "metadata": {
        "id": "HtaS1NdWEohv"
      },
      "execution_count": 30,
      "outputs": []
    }
  ]
}